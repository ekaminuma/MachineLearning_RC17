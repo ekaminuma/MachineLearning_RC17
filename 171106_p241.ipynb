{
 "cells": [
  {
   "cell_type": "markdown",
   "metadata": {},
   "source": [
    "II部は「ニューラルネットワークと深層学習」を学びます。\n",
    "深層学習の中心的モデルは、幾層にも連結したニューラルネットワークモデルです。特に深層学習の代表的モデルである畳み込みニューラルネットワーク（Convolutional Neural Network:CNN）について学習していきます。\n",
    "\n",
    "9章からGoogleのDeep Learningフレームワーク[Tensorflow](https://www.tensorflow.org/)を利用します。\n",
    "Anaconda環境(注1)へTensorflowをインストールするステップは次の通りです。\n",
    "\n",
    "注1:非GPU搭載マシンのLOCAL PCの場合。\n",
    "***\n",
    "Tensorflowのセットアップ\n",
    "1. Anaconda promptを起動。\n",
    "2. pip install tensorflowでインストール。\n",
    "3. conda listで、インストール済ライブラリのリストを表示。\n",
    "```\n",
    "tensorflow                1.3.0                     <pip>\n",
    "tensorflow-tensorboard    0.1.4                     <pip>\n",
    "```\n",
    "上記2件がリストに表示されていれば準備OKです。\n",
    "\n",
    "4. tensorflowのupgrade処理(適宜)。\n",
    "　　　- the most recent stable branch r1.3(注：17-11-04時点).\n",
    "      - [versions of tensorflow](https://www.tensorflow.org/versions/)\n",
    "\n",
    "```\n",
    "pip install --ignore-installed --upgrade tensorflow\n",
    "```\n",
    "\n",
    "conda listで下記表示されます。\n",
    "```\n",
    "tensorflow                1.4.0                     <pip>\n",
    "tensorflow                1.3.0                     <pip>\n",
    "tensorflow-tensorboard    0.4.0rc2                  <pip>\n",
    "tensorflow-tensorboard    0.1.4                     <pip>\n",
    "```\n",
    "\n",
    "5. jupyter notebookの起動ディレクトリに移動。\n",
    "6. mkdir tf_logs; mkdir logs;  でtensorboardのログを保存するディレクトリ作成。\n",
    "輪読本コードは、相対パスでディレクトリを指定している事に注意。\n",
    "7. mkdir images; 画像保存用ディレクトリ作成\n",
    "***"
   ]
  },
  {
   "cell_type": "markdown",
   "metadata": {},
   "source": [
    "***\n",
    "- TensorFlowはオープンソースソフトウェアライブラリ\n",
    "- Pythonで計算定義すると、最適化されたC ++コードを実行\n",
    "- グラフをチャンクに分割して実行する機能で、複数のCPUまたはGPUを使った並列計算が可能（図9-2参照）\n",
    "\n",
    "|図9_1|図9_2|\n",
    "|:-:|:-:|\n",
    "|<img width=\"280\" alt=\"F9_1.png\" src=\"./images/F9_1.PNG\">|<img width=\"280\" alt=\"F9_2.png\" src=\"./images/F9_2.PNG\">|\n",
    "\n",
    "- TensorFlowは分散コンピューティングもサポート(巨大なNeural Networkを分割計算)\n",
    "- 並列計算は、何百サーバー対応可\n",
    "- 数十億のインスタンスの訓練セット、何百万のパラメータ\n",
    "　　　- インスタンスの例：[iris dataset](http://archive.ics.uci.edu/ml/datasets/Iris)(150 instances, 4 attributes)\n",
    "- Google Brainチームが開発(Googleクラウドスピーチ、Googleフォト、Google検索に応用)\n",
    "- 2015年11月にオープンソース化\n",
    "- Popular open source libraries of Deep Learning\n",
    "      - Caffe\n",
    "      - DeepLearning4J\n",
    "      - H2O\n",
    "      - MXNet\n",
    "      - Tensorflow\n",
    "      - Theano\n",
    "      - Torch\n",
    "      - Chainer(日本PFN)\n",
    "- 特徴\n",
    "  - プラットフォーム(Windows, Linux,MacOSX, iOS and Android)\n",
    "  - python API called TF.Learn 2 \n",
    "     - tensorflow.contrib.learn compatible with Scikit-Learn. \n",
    "     - 昔はScikit Flow(skflow)ライブラリとして提供。\n",
    "     - skflowは0,80からtensorflowに統合。\n",
    "  - 高レベルAPIsがTensorFlowをバックエンドとして組み込まれる。 \n",
    "   　- Keras (NN Architectureを簡単に定義できる.Popular Library)\n",
    "     - Pretty Tensor\n",
    "  - C++ APIも高性能操作用に提供.\n",
    "  - コスト関数最小化の為のパラメータ検索用機能\n",
    "     - TensorFlowが定義した関数の勾配を自動計算\n",
    "     - AutoDiff機能と呼ばれる\n",
    "  - TensorBoardと呼ばれる視覚化ツール\n",
    "     - 計算グラフの表示\n",
    "     - 学習曲線の表示\n",
    "  - Googleはtensorflowの[クラウドサービス](https://cloud.google.com/ml/)提供.\n",
    "     - [1,000 Cloud TPUs](https://www.tensorflow.org/tfrc/)\n",
    "     - 180 teraflops of ML acceleration\n",
    "  - Forum,Q&A,コミュニティ作成tensorflowコード\n",
    "     - resources page on https://www.tensorflow.org/, \n",
    "     - https://github.com/jtoy/awesome-tensorflow. \n",
    "     - To ask technical questions, http://stackoverflow.com/ \"tensorflow\" tag.                  \n",
    "     - google group: [tensorflow forum](http://goo.gl/N7kRF9)\n",
    "  - 日本のコミュニティ\n",
    "     - 東京 [TensorFlow User Group Tokyo](https://tfug-tokyo.connpass.com/)\n",
    "     - 大阪 [Soleil Data Dojo](https://soleildatadojo.connpass.com/)\n",
    "     - 宇都宮 [TensorFlow User Group Utsunomiya](https://tfug-utsunomiya.connpass.com/)\n",
    "    \n",
    "\n",
    "***"
   ]
  },
  {
   "cell_type": "markdown",
   "metadata": {},
   "source": [
    "9章ではTensorflowの基礎を一通り実行\n",
    "  - 9章の項目\n",
    "    - installation \n",
    "    - creating,\n",
    "    - running, \n",
    "    - saving \n",
    "    - visualizing simple computational graphs.  \n",
    "- GPUバージョンのTensorflowをインストールする場合\n",
    "    - Cuda Toolkit and cuDNN (available on https://developer.nvidia.com/) \n",
    "    - Setting a couple environment variables. \n",
    "    - See the installation page on https://www.tensorflow.org/.\n",
    "    - インストールが難しい(バージョン組合せに試行錯誤必要)\n",
    "    - NIGスパコンチームがQsub環境GPU版を準備中"
   ]
  },
  {
   "cell_type": "markdown",
   "metadata": {},
   "source": [
    "## [9-1] Tensorflow用のSetup p.244"
   ]
  },
  {
   "cell_type": "code",
   "execution_count": 2,
   "metadata": {
    "collapsed": true
   },
   "outputs": [],
   "source": [
    "#- 作図用の関数を準備。[MatplotLib plots figures inline/Saving figures]\n",
    "#- ホーム直下のimagesディレクトリを作成しておく。\n",
    "\n",
    "# To support both python 2 and python 3\n",
    "from __future__ import division, print_function, unicode_literals\n",
    "\n",
    "#----- Common imports\n",
    "import numpy as np\n",
    "import os\n",
    "\n",
    "#--------- to make this notebook's output stable across runs\n",
    "def reset_graph(seed=42):\n",
    "    tf.reset_default_graph()\n",
    "    tf.set_random_seed(seed)\n",
    "    np.random.seed(seed)\n",
    "\n",
    "#----- To plot pretty figures\n",
    "%matplotlib inline\n",
    "import matplotlib\n",
    "import matplotlib.pyplot as plt\n",
    "plt.rcParams['axes.labelsize'] = 14\n",
    "plt.rcParams['xtick.labelsize'] = 12\n",
    "plt.rcParams['ytick.labelsize'] = 12\n",
    "\n",
    "#-------- Where to save the figures\n",
    "PROJECT_ROOT_DIR = \".\"\n",
    "CHAPTER_ID = \"tensorflow\"\n",
    "\n",
    "def save_fig(fig_id, tight_layout=True):\n",
    "    path = os.path.join(PROJECT_ROOT_DIR, \"images\", CHAPTER_ID, fig_id + \".png\")\n",
    "    print(\"Saving figure\", fig_id)\n",
    "    if tight_layout:\n",
    "        plt.tight_layout()\n",
    "    plt.savefig(path, format='png', dpi=300)"
   ]
  },
  {
   "cell_type": "markdown",
   "metadata": {},
   "source": [
    "### [9-2] Creating your first graph and running it in a session p.245\n",
    "p.245\n",
    "\n",
    "Tensorflowはデータフローグラフ表現で、計算を行います。\n",
    "データフローグラフとは、データの流れをエッジとノードで表現したグラフです。\n",
    "  - 楕円node＝計算(operation)\n",
    "  - 円node=定数(operation)\n",
    "  - エッジ=Tensor\n",
    "\n",
    "参考LINK\n",
    " - [Tensor(n次元多次元配列)の解説](https://qiita.com/rneuo/items/54c88088941bb5c47d17)\n",
    " - [Opノード、エッジ、セッション、変数の説明](https://qiita.com/yanosen_jp/items/70e6d6afc36e1c0a3ef3)\n",
    " - [a+b, 最急降下法のグラフ例](http://developers.gnavi.co.jp/entry/tensorflow-deeplearning-2_1)"
   ]
  },
  {
   "cell_type": "code",
   "execution_count": 3,
   "metadata": {
    "collapsed": true
   },
   "outputs": [],
   "source": [
    "# 図9_1の計算グラフを生成\n",
    "# - 変数初期化せず\n",
    "# - グラフを評価するには\n",
    "#    - ①TensorFlowセッションを開き、\n",
    "#    - ②変数を初期化、\n",
    "#    - ③fを評価、が必要\n",
    "import tensorflow as tf\n",
    "import tensorboard as tb   # -> (注：追加）\n",
    "\n",
    "reset_graph()\n",
    "\n",
    "x = tf.Variable(3, name=\"x\")\n",
    "y = tf.Variable(4, name=\"y\")\n",
    "f = x*x*y + y + 2"
   ]
  },
  {
   "cell_type": "code",
   "execution_count": 4,
   "metadata": {},
   "outputs": [
    {
     "name": "stdout",
     "output_type": "stream",
     "text": [
      "42\n"
     ]
    }
   ],
   "source": [
    "# Tensorflowセッションを開き、変数初期化、fを評価、セッションを閉じる\n",
    "# （セッションを閉じる=リソースを解放）\n",
    "\n",
    "sess = tf.Session()\n",
    "sess.run(x.initializer)\n",
    "sess.run(y.initializer)\n",
    "result = sess.run(f)\n",
    "print(result)\n",
    "\n",
    "sess.close()"
   ]
  },
  {
   "cell_type": "code",
   "execution_count": 5,
   "metadata": {
    "collapsed": true
   },
   "outputs": [],
   "source": [
    "# withブロックの中で読みやすくなる\n",
    "#   - default sessionとして登録\n",
    "#   - x.initializer.run（）= tf.get_default_session（）.run（x.initializer）\n",
    "#   - f.eval（）= tf.get_default_session（）.run（f）\n",
    "#   - withブロック終わりでsession自動的に閉じる\n",
    "\n",
    "with tf.Session() as sess:\n",
    "    x.initializer.run()\n",
    "    y.initializer.run()\n",
    "    result = f.eval()"
   ]
  },
  {
   "cell_type": "code",
   "execution_count": 6,
   "metadata": {},
   "outputs": [
    {
     "data": {
      "text/plain": [
       "42"
      ]
     },
     "execution_count": 6,
     "metadata": {},
     "output_type": "execute_result"
    }
   ],
   "source": [
    "result"
   ]
  },
  {
   "cell_type": "code",
   "execution_count": 7,
   "metadata": {
    "collapsed": true
   },
   "outputs": [],
   "source": [
    "# global_variable_initializers（）関数\n",
    "# - 単一変数毎にinitializerを手動でrunする代用 \n",
    "# - 実際には実行されないことに注意\n",
    "# - グラフにすべての変数を初期化するノードが作成される\n",
    "\n",
    "init = tf.global_variables_initializer()\n",
    "\n",
    "with tf.Session() as sess:\n",
    "    init.run()\n",
    "    result = f.eval()"
   ]
  },
  {
   "cell_type": "code",
   "execution_count": 8,
   "metadata": {},
   "outputs": [
    {
     "data": {
      "text/plain": [
       "42"
      ]
     },
     "execution_count": 8,
     "metadata": {},
     "output_type": "execute_result"
    }
   ],
   "source": [
    "result"
   ]
  },
  {
   "cell_type": "code",
   "execution_count": 9,
   "metadata": {},
   "outputs": [
    {
     "name": "stdout",
     "output_type": "stream",
     "text": [
      "42\n"
     ]
    }
   ],
   "source": [
    "# JupyterやPythonシェル中で、InteractiveSessionを使いたい場合\n",
    "#   - Session vs InteractiveSession\n",
    "#   - 作成時に自動でデフォルトセッションとして設定される\n",
    "#   - withブロックは必要なし\n",
    "# 　- セッションを手動で終了必要\n",
    "# \n",
    "init = tf.global_variables_initializer()\n",
    "sess = tf.InteractiveSession()\n",
    "init.run()\n",
    "result = f.eval()\n",
    "print(result)\n",
    "sess.close()"
   ]
  },
  {
   "cell_type": "code",
   "execution_count": 10,
   "metadata": {},
   "outputs": [
    {
     "data": {
      "text/plain": [
       "42"
      ]
     },
     "execution_count": 10,
     "metadata": {},
     "output_type": "execute_result"
    }
   ],
   "source": [
    "result"
   ]
  },
  {
   "cell_type": "markdown",
   "metadata": {},
   "source": [
    "TensorFlowプログラムは、通常、2つの部分に分割される。\n",
    " - 1. 構築フェーズ＝計算グラフ構築\n",
    " - 2. 実行フェーズ＝run \n",
    "\n",
    "構築フェーズでは、通常、MLモデルの計算グラフが作成され、訓練を行う。 \n",
    "実行フェーズは、一般に、モデルパラメータを改善していく、\n",
    "繰り返し訓練の評価ループ(例えば、ミニバッチごとの1ステップ)を実行する。\n",
    "\n",
    "```\n",
    "*mini batch法とは\n",
    "　訓練データからランダムにデータの塊を呼び出して学習する方式\n",
    "   \n",
    "   epoch数＝訓練データの学習回数\n",
    "   \n",
    "   例 datasize＝1500, batch_size=100,epoch=10\n",
    "        --> 15回パラメータ更新してデータが一巡。\n",
    "   　　 --> epoch=10で10回繰り返し。全計算で15x10=150回のパラメータ更新。\n",
    "　　例：datasize 100, batch_size=32の場合、データの区切りは下記。\n",
    "　　　　0〜31\n",
    "　　　　32〜63\n",
    "　　　　64〜95\n",
    "　　　　66〜99\n",
    "    \n",
    "* epochと精度の参考\n",
    "http://st-hakky.hatenablog.com/entry/2017/01/17/165137\n",
    "```"
   ]
  },
  {
   "cell_type": "markdown",
   "metadata": {},
   "source": [
    "### [9-3] Managing graphs　p.246\n",
    "### 計算グラフの管理"
   ]
  },
  {
   "cell_type": "code",
   "execution_count": 11,
   "metadata": {},
   "outputs": [
    {
     "data": {
      "text/plain": [
       "True"
      ]
     },
     "execution_count": 11,
     "metadata": {},
     "output_type": "execute_result"
    }
   ],
   "source": [
    "# どんなノードを生成しても自動的にデフォルトグラフに追加される\n",
    "#\n",
    "reset_graph()\n",
    "\n",
    "x1 = tf.Variable(1)\n",
    "x1.graph is tf.get_default_graph()"
   ]
  },
  {
   "cell_type": "code",
   "execution_count": 12,
   "metadata": {},
   "outputs": [
    {
     "name": "stdout",
     "output_type": "stream",
     "text": [
      "a1= True \n",
      "a2= False\n"
     ]
    }
   ],
   "source": [
    "# ほとんどの場合は追加で問題ない。\n",
    "# 　- 複数の独立グラフを管理したいかもしれない。\n",
    "#　 - 新グラフ生成用に、withブロックで、default graphを保存しておく\n",
    "\n",
    "graph = tf.Graph() # new graph\n",
    "with graph.as_default(): # 新グラフのdefaule graphをwithで一時利用にする\n",
    "    x2 = tf.Variable(2)\n",
    "\n",
    "a1=(x2.graph is graph)\n",
    "a2=(x2.graph is tf.get_default_graph()) #1時利用x2 vs default\n",
    "print(\"a1=\", a1, \"\\na2=\",a2)"
   ]
  },
  {
   "cell_type": "markdown",
   "metadata": {},
   "source": [
    "---\n",
    "Jupyter（またはPythonシェル）では、同じコマンドを何回も\n",
    "実行します。結果として、多くの複製ノードを含むデフォルト\n",
    "グラフを作る可能性があります。\n",
    "\n",
    "解決策として次の２策がある。\n",
    "- 1 Jupyterカーネルを再起動\n",
    "- 2 <code>tf.reset_default_graph</code>実行でdefault graphをreset"
   ]
  },
  {
   "cell_type": "markdown",
   "metadata": {},
   "source": [
    "### [9-4] Lifecycle of a node value p.247"
   ]
  },
  {
   "cell_type": "code",
   "execution_count": 13,
   "metadata": {},
   "outputs": [
    {
     "name": "stdout",
     "output_type": "stream",
     "text": [
      "10\n",
      "15\n"
     ]
    }
   ],
   "source": [
    "#ノードを評価する時、TensorFlowはノードの依存集合を自動で決定\n",
    "# 以下事例\n",
    "w = tf.constant(3)\n",
    "x = w + 2\n",
    "y = x + 5\n",
    "z = x * 3\n",
    "\n",
    "with tf.Session() as sess:\n",
    "    print(y.eval())  # 10\n",
    "    print(z.eval())  # 15"
   ]
  },
  {
   "cell_type": "markdown",
   "metadata": {},
   "source": [
    "ノード値ライフサイクルの特徴\n",
    "- yの評価グラフで、TensorFlowはyがwに依存することを自動検出\n",
    " - 最初にw、次にx、そしてyを評価して、yの値を返す\n",
    " - z評価でも同様に計算される。wとxはyの値を再利用せず、再度計算する。\n",
    " \n",
    " - グラフの実行の間に、sessionで使う変数以外は全ノードはドロップされる(12章で説明あり)。\n",
    "\n",
    "変数のライフサイクル\n",
    " - イニシャライザが実行されるとライフ開始\n",
    " - セッションが終了するとライフ終了\n"
   ]
  },
  {
   "cell_type": "code",
   "execution_count": 14,
   "metadata": {},
   "outputs": [
    {
     "name": "stdout",
     "output_type": "stream",
     "text": [
      "10\n",
      "15\n"
     ]
    }
   ],
   "source": [
    "# 2回x,wを計算するのが望ましくない場合は、withで一つのグラフとしてy,zを定義する。\n",
    "with tf.Session() as sess:\n",
    "    y_val, z_val = sess.run([y, z])\n",
    "    print(y_val)  # 10\n",
    "    print(z_val)  # 15"
   ]
  },
  {
   "cell_type": "markdown",
   "metadata": {},
   "source": [
    "＜参考情報＞\n",
    "1. シングルプロセスのTensorFlow\n",
    " - 複数セッションは共有されない\n",
    " - 同じグラフを再利用しても共有されない\n",
    " - 各セッションは全変数の都度コピーを持つ\n",
    "\n",
    "2. Distributed TensorFlowで（12章)\n",
    " - 複数セッションで同じ変数を共有できる\n",
    " - 変数の状態はセッションではなくサーバーに格納される"
   ]
  },
  {
   "cell_type": "markdown",
   "metadata": {},
   "source": [
    "### [9-5] Linear Regression with Tensorflow p.248\n",
    "テンソルフローでの線形回帰"
   ]
  },
  {
   "cell_type": "markdown",
   "metadata": {},
   "source": [
    "TensorFlow操作（operationsの略＝ops）\n",
    " - 任意の数の入力、任意の数の出力を生成\n",
    " - 例えば、加算演算と乗算演算それぞれ2つの入力を取り、1つの出力を生成\n",
    " - 定数と変数には入力が無い（ソース操作と呼ばれます）。\n",
    " - 入力と出力は、テンソルと呼ばれる多次元配列\n",
    "     - \"テンソルの流れ\"というツール名の由来\n",
    " - NumPy配列と同様に、テンソルは型と形状を持つ\n",
    " - 実際には、Python APIのテンソルは単にNumPy ndarrayで表される\n",
    " - 通常は浮動小数点数を含むが、文字列（任意のバイト配列）を渡すために使用可\n",
    " - 上記例では、テンソルは単なるスカラー値だが、もちろん、多次元配列で実行可\n",
    " - 例：次コードは、2次元配列を操作\n",
    "     - カリフォルニア住宅のデータセット（第2章で紹介）に線形回帰を実行  \n",
    "     - コードの工程\n",
    "         1. データセットのフェッチ\n",
    "         2. 全訓練インスタンスに、バイアス入力特徴（x0 = 1）追加。NumPyで実行。\n",
    "         3. データを保持する2つのTensorFlow定数ノードXおよびyを作成\n",
    "         4. ターゲット4を使用しており、Tensor-シータを定義するフロー。\n",
    "         5. 関数（transpose（転置）, matmul(行列乗算),matrix_inverse（逆行列））は、                 \n",
    "            すぐに計算を実行せずノードをグラフ中に作成、実行\n",
    "         6. 正規方程式（第4章を参照）でthetaを定義\n",
    "         7. 最後にセッションを作成し、thetaを評価する\n",
    " - 注意：housing.targetは、thetaを計算する為に、列ベクトルにreshapeする必要があります。numpyの多次元配列を一次元配列にしたいときは、1行へ変換：reshape(-1,),または1列に変換:reshape(-1,1)を使います。"
   ]
  },
  {
   "cell_type": "markdown",
   "metadata": {},
   "source": [
    "### Using the Normal Equation　p.248\n",
    "4章で出てくるthetaを計算して評価する\n",
    "\n",
    "$$\n",
    "theta = （X^{T}*X)^{-1} * X^{T} * ｙ \n",
    "$$"
   ]
  },
  {
   "cell_type": "code",
   "execution_count": 15,
   "metadata": {
    "collapsed": true
   },
   "outputs": [],
   "source": [
    "import os\n",
    "import tarfile\n",
    "from six.moves import urllib\n",
    "DOWNLOAD_ROOT = \"https://raw.githubusercontent.com/ageron/handson-ml/master/\"\n",
    "HOUSING_PATH = \"datasets/housing\"\n",
    "HOUSING_URL = DOWNLOAD_ROOT + HOUSING_PATH + \"/housing.tgz\"\n",
    "def fetch_housing_data(housing_url=HOUSING_URL, hpath=HOUSING_PATH):\n",
    "    os.makedirs(hpath, exist_ok=True)\n",
    "    tgz_path = os.path.join(hpath, \"housing.tgz\")\n",
    "    urllib.request.urlretrieve(housing_url, tgz_path)\n",
    "    housing_tgz = tarfile.open(tgz_path)\n",
    "    housing_tgz.extractall(path=hpath)\n",
    "    housing_tgz.close()"
   ]
  },
  {
   "cell_type": "code",
   "execution_count": 16,
   "metadata": {
    "collapsed": true
   },
   "outputs": [],
   "source": [
    "import pandas as pd\n",
    "def load_housing_data(housing_path=HOUSING_PATH):\n",
    "    csv_path = os.path.join(housing_path, \"housing.csv\")\n",
    "    return pd.read_csv(csv_path)"
   ]
  },
  {
   "cell_type": "code",
   "execution_count": 17,
   "metadata": {},
   "outputs": [
    {
     "name": "stdout",
     "output_type": "stream",
     "text": [
      "{'data': array([[   8.3252    ,   41.        ,    6.98412698, ...,    2.55555556,\n",
      "          37.88      , -122.23      ],\n",
      "       [   8.3014    ,   21.        ,    6.23813708, ...,    2.10984183,\n",
      "          37.86      , -122.22      ],\n",
      "       [   7.2574    ,   52.        ,    8.28813559, ...,    2.80225989,\n",
      "          37.85      , -122.24      ],\n",
      "       ..., \n",
      "       [   1.7       ,   17.        ,    5.20554273, ...,    2.3256351 ,\n",
      "          39.43      , -121.22      ],\n",
      "       [   1.8672    ,   18.        ,    5.32951289, ...,    2.12320917,\n",
      "          39.43      , -121.32      ],\n",
      "       [   2.3886    ,   16.        ,    5.25471698, ...,    2.61698113,\n",
      "          39.37      , -121.24      ]]), 'target': array([ 4.526,  3.585,  3.521, ...,  0.923,  0.847,  0.894]), 'feature_names': ['MedInc', 'HouseAge', 'AveRooms', 'AveBedrms', 'Population', 'AveOccup', 'Latitude', 'Longitude'], 'DESCR': 'California housing dataset.\\n\\nThe original database is available from StatLib\\n\\n    http://lib.stat.cmu.edu/\\n\\nThe data contains 20,640 observations on 9 variables.\\n\\nThis dataset contains the average house value as target variable\\nand the following input variables (features): average income,\\nhousing average age, average rooms, average bedrooms, population,\\naverage occupation, latitude, and longitude in that order.\\n\\nReferences\\n----------\\n\\nPace, R. Kelley and Ronald Barry, Sparse Spatial Autoregressions,\\nStatistics and Probability Letters, 33 (1997) 291-297.\\n\\n'}\n",
      "\n",
      "\n",
      "housing.data(type)= <class 'numpy.ndarray'> \n",
      "\n",
      "housing.data(m,n)= 20640 8 \n",
      "\n",
      "housing.target(type)= <class 'numpy.ndarray'> \n",
      "\n",
      "<class 'sklearn.datasets.base.Bunch'>\n"
     ]
    }
   ],
   "source": [
    "# tensorflowの場合Normal Equation使う\n",
    "import numpy as np\n",
    "import matplotlib.pyplot as plt\n",
    "\n",
    "from sklearn.datasets import fetch_california_housing\n",
    "\n",
    "reset_graph()\n",
    "\n",
    "#------housingデータ取得--------------------\n",
    "housing = fetch_california_housing()\n",
    "print(housing)\n",
    "print(\"\\n\\nhousing.data(type)=\",type(housing.data), \"\\n\") \n",
    "\n",
    "m, n = housing.data.shape #行数、列数\n",
    "print(\"housing.data(m,n)=\",m, n, \"\\n\") \n",
    "\n",
    "print(\"housing.target(type)=\",type(housing.target), \"\\n\") \n",
    "#m2, n2 = housing.target.dim() #行数、列数\n",
    "#print('housing.target(m,n)=',m2, n2, \"\\n\") \n",
    "\n",
    "print(type(housing))\n",
    "\n",
    "#housingデータの構造\n",
    "#   housing.data\n",
    "#   housing.target\n",
    "#   housing.feature_names\n"
   ]
  },
  {
   "cell_type": "code",
   "execution_count": 18,
   "metadata": {},
   "outputs": [
    {
     "data": {
      "image/png": "[encoded data removed]",
      "text/plain": [
       "<matplotlib.figure.Figure at 0x205ccdb7438>"
      ]
     },
     "metadata": {},
     "output_type": "display_data"
    }
   ],
   "source": [
    "#------housingデータをpandas.Dataframeに変換したらp.49の関数で確認可能--------------------\n",
    "#\n",
    "housing2 = pd.DataFrame(housing.data)\n",
    "housing2.hist(bins=50, figsize=(20,15))\n",
    "plt.show()\n",
    "\n",
    "#housing2.head()\n"
   ]
  },
  {
   "cell_type": "code",
   "execution_count": 19,
   "metadata": {},
   "outputs": [
    {
     "name": "stdout",
     "output_type": "stream",
     "text": [
      "<class 'pandas.core.frame.DataFrame'>\n",
      "RangeIndex: 20640 entries, 0 to 20639\n",
      "Data columns (total 8 columns):\n",
      "0    20640 non-null float64\n",
      "1    20640 non-null float64\n",
      "2    20640 non-null float64\n",
      "3    20640 non-null float64\n",
      "4    20640 non-null float64\n",
      "5    20640 non-null float64\n",
      "6    20640 non-null float64\n",
      "7    20640 non-null float64\n",
      "dtypes: float64(8)\n",
      "memory usage: 1.3 MB\n"
     ]
    }
   ],
   "source": [
    "housing2.info() #info()=header--wk, describe()=mean table, head()=raw table --not wk"
   ]
  },
  {
   "cell_type": "code",
   "execution_count": 20,
   "metadata": {},
   "outputs": [
    {
     "name": "stdout",
     "output_type": "stream",
     "text": [
      "(20640, 1)\n",
      "np.ones((m, 1)) type= <class 'numpy.ndarray'>\n",
      "[[ 1.]\n",
      " [ 1.]\n",
      " [ 1.]\n",
      " ..., \n",
      " [ 1.]\n",
      " [ 1.]\n",
      " [ 1.]]\n",
      "X type= <class 'tensorflow.python.framework.ops.Tensor'>\n",
      "Y type= <class 'tensorflow.python.framework.ops.Tensor'>\n"
     ]
    }
   ],
   "source": [
    "tmp=np.ones((m, 1))\n",
    "print(tmp.shape) #行列数\n",
    "print('np.ones((m, 1)) type=',type(tmp)) #型\n",
    "print(tmp) #1列の1データ\n",
    "\n",
    "housing_data_plus_bias = np.c_[np.ones((m, 1)), housing.data] #列で連結\n",
    "\n",
    "X = tf.constant(housing_data_plus_bias, dtype=tf.float32, name=\"X\")\n",
    "print('X type=',type(X))\n",
    "y = tf.constant(housing.target.reshape(-1, 1), dtype=tf.float32, name=\"y\")#1列に変換\n",
    "print('Y type=',type(y))\n",
    "XT = tf.transpose(X) #転置\n",
    "theta = tf.matmul(tf.matmul(tf.matrix_inverse(tf.matmul(XT, X)), XT), y) \n",
    "# theta =（XT*X)^(-1)*XT*ｙ\n",
    "\n",
    "with tf.Session() as sess:\n",
    "    theta_value = theta.eval()"
   ]
  },
  {
   "cell_type": "code",
   "execution_count": 21,
   "metadata": {},
   "outputs": [
    {
     "data": {
      "text/plain": [
       "array([[ -3.74651413e+01],\n",
       "       [  4.35734153e-01],\n",
       "       [  9.33829229e-03],\n",
       "       [ -1.06622010e-01],\n",
       "       [  6.44106984e-01],\n",
       "       [ -4.25131839e-06],\n",
       "       [ -3.77322501e-03],\n",
       "       [ -4.26648885e-01],\n",
       "       [ -4.40514028e-01]], dtype=float32)"
      ]
     },
     "execution_count": 21,
     "metadata": {},
     "output_type": "execute_result"
    }
   ],
   "source": [
    "theta_value"
   ]
  },
  {
   "cell_type": "markdown",
   "metadata": {},
   "source": [
    "Tensorflow vs NumPy\n",
    "\n",
    "主な利点は、TensorFlowはGPUカード上でこの計算\n",
    "(正規方程式を直接計算すること)を自動実行することです。\n",
    "（GPUサポート付きのTensorFlowをインストールしたい場合は、第12章を参照）"
   ]
  },
  {
   "cell_type": "markdown",
   "metadata": {},
   "source": [
    "[1] Compare with pure NumPy vs Tensorflow"
   ]
  },
  {
   "cell_type": "code",
   "execution_count": 22,
   "metadata": {},
   "outputs": [
    {
     "name": "stdout",
     "output_type": "stream",
     "text": [
      "[[ -3.69419202e+01]\n",
      " [  4.36693293e-01]\n",
      " [  9.43577803e-03]\n",
      " [ -1.07322041e-01]\n",
      " [  6.45065694e-01]\n",
      " [ -3.97638942e-06]\n",
      " [ -3.78654265e-03]\n",
      " [ -4.21314378e-01]\n",
      " [ -4.34513755e-01]]\n"
     ]
    }
   ],
   "source": [
    "# NumPyで計算する場合 [（XT*X)^(-1)*XT*ｙ ]\n",
    "# np.dot:内積\n",
    "# np.linalg.inv:逆行列\n",
    "X = housing_data_plus_bias\n",
    "y = housing.target.reshape(-1, 1)\n",
    "theta_numpy = np.linalg.inv(X.T.dot(X)).dot(X.T).dot(y) \n",
    "\n",
    "print(theta_numpy)"
   ]
  },
  {
   "cell_type": "markdown",
   "metadata": {},
   "source": [
    "[2] Compare with Scikit-Learn vs Tensorflow\n",
    "\n",
    "- [sklearn線形回帰の参考ページ](https://qiita.com/kento1109/items/3bfa934fbdfcef8ef186)\n",
    "- [MATLAB線形回帰の説明ページ](https://jp.mathworks.com/help/matlab/data_analysis/linear-regression.html)\n"
   ]
  },
  {
   "cell_type": "code",
   "execution_count": 23,
   "metadata": {},
   "outputs": [
    {
     "name": "stdout",
     "output_type": "stream",
     "text": [
      "[[ -3.69419202e+01]\n",
      " [  4.36693293e-01]\n",
      " [  9.43577803e-03]\n",
      " [ -1.07322041e-01]\n",
      " [  6.45065694e-01]\n",
      " [ -3.97638942e-06]\n",
      " [ -3.78654265e-03]\n",
      " [ -4.21314378e-01]\n",
      " [ -4.34513755e-01]]\n"
     ]
    }
   ],
   "source": [
    "# Scikit-Learnで計算する場合\n",
    "# 線形回帰モデル\n",
    "# np.r_ :　行で連結\n",
    "# lin_reg.intercept_:切片（線形回帰モデルの独立項）y=ax+bの'b'\n",
    "# lin_reg.coef_:係数 y=ax+bの'a'\n",
    "from sklearn.linear_model import LinearRegression \n",
    "lin_reg = LinearRegression()\n",
    "lin_reg.fit(housing.data, housing.target.reshape(-1, 1)) #線形回帰\n",
    "\n",
    "print(np.r_[lin_reg.intercept_.reshape(-1, 1), lin_reg.coef_.T])"
   ]
  },
  {
   "cell_type": "markdown",
   "metadata": {},
   "source": [
    "### [9-6] Implementing Batch Gradient Descent p.249"
   ]
  },
  {
   "cell_type": "markdown",
   "metadata": {},
   "source": [
    "Batch Gradient Descent（第4章で紹介した）をNormal Equationの代わりに\n",
    "使ってみましょう。 まず、勾配を手動で計算します。\n",
    "TensorFlowのAutoDiff機能を使用して、TFが自動的に勾配を\n",
    "計算できるようにします。最後に、TensorFlowの2つのOptimizerを使用します。\n",
    "\n",
    "```\n",
    "Gradient Descentを使用する場合は、入力特徴ベクトルを\n",
    "最初にnormalizeすることが重要だった事を思い出してください。\n",
    "TensorFlow、NumPy、Scikit-LearnのStandardScaler、\n",
    "または他のライブラリにもnormalize機能があります。 \n",
    "\n",
    "```\n"
   ]
  },
  {
   "cell_type": "code",
   "execution_count": 24,
   "metadata": {},
   "outputs": [
    {
     "name": "stdout",
     "output_type": "stream",
     "text": [
      "<class 'numpy.ndarray'>\n",
      "2\n",
      "185760\n"
     ]
    }
   ],
   "source": [
    "#StandardScalerでデータをNormalize\n",
    "# np.c_: np.concatenate 連結\n",
    "from sklearn.preprocessing import StandardScaler\n",
    "scaler = StandardScaler()\n",
    "scaled_housing_data = scaler.fit_transform(housing.data)\n",
    "scaled_housing_data_plus_bias = np.c_[np.ones((m, 1)), scaled_housing_data]\n",
    "\n",
    "print(type(scaled_housing_data_plus_bias))\n",
    "\n",
    "print(scaled_housing_data_plus_bias.ndim)\n",
    "scaled_housing_data_plus_bias.reshape\n",
    "print(scaled_housing_data_plus_bias.size)\n",
    "\n",
    "\n",
    "#scaled_housing_data_plus_bias.describe()\n",
    "#print('housing_bias.reshape=',m1,n1)"
   ]
  },
  {
   "cell_type": "code",
   "execution_count": 25,
   "metadata": {},
   "outputs": [
    {
     "name": "stdout",
     "output_type": "stream",
     "text": [
      "[  1.00000000e+00   6.60969987e-17   5.50808322e-18   6.60969987e-17\n",
      "  -1.06030602e-16  -1.10161664e-17   3.44255201e-18  -1.07958431e-15\n",
      "  -8.52651283e-15]\n",
      "[ 0.38915536  0.36424355  0.5116157  ..., -0.06612179 -0.06360587\n",
      "  0.01359031]\n",
      "0.111111111111\n",
      "(20640, 9)\n"
     ]
    }
   ],
   "source": [
    "print(scaled_housing_data_plus_bias.mean(axis=0))\n",
    "print(scaled_housing_data_plus_bias.mean(axis=1))\n",
    "print(scaled_housing_data_plus_bias.mean())\n",
    "print(scaled_housing_data_plus_bias.shape)"
   ]
  },
  {
   "cell_type": "markdown",
   "metadata": {},
   "source": [
    "### [9-6-1] Manually computing the gradients p.249\n",
    "手動で勾配を計算"
   ]
  },
  {
   "cell_type": "markdown",
   "metadata": {},
   "source": [
    "次のコードは、いくつかの新しい要素を除いて、かなり自明であるはずです。\n",
    "```\n",
    "•random_uniform（）関数\n",
    "　　- ランダム値を含むテンソルを生成。\n",
    "    - グラフに1つノードを生成。\n",
    "　  - NumPyのrand関数に類似\n",
    "•assign（）関数\n",
    "　  - 変数に新しい値を割り当てる\n",
    "    - 1つノードを作成\n",
    "　　- 今回はBatch Gradient Descentステップを実装します\n",
    "```\n",
    "$$\n",
    "Batch~Gradient~Descent : \\theta^{next step} =\\theta - \\eta\\nabla _{\\theta}MSE(\\theta)\n",
    "$$\n",
    "```\n",
    "•メインループ \n",
    "    - n_epoch回数分、訓練ステップを繰り返し実行します\n",
    "    - 100回の反復ごとに、平均2乗誤差（MSE）をプリントアウト\n",
    "```\n",
    "\n",
    "$$\n",
    "MSE = \\frac{1}{n}\\sum_{t=1}^{n}( y\\_pred_{t} - y_{t} )^2   \n",
    "$$"
   ]
  },
  {
   "cell_type": "code",
   "execution_count": 26,
   "metadata": {},
   "outputs": [
    {
     "name": "stdout",
     "output_type": "stream",
     "text": [
      "Epoch 0 MSE = 9.16154\n",
      "Epoch 100 MSE = 0.714501\n",
      "Epoch 200 MSE = 0.566705\n",
      "Epoch 300 MSE = 0.555572\n",
      "Epoch 400 MSE = 0.548812\n",
      "Epoch 500 MSE = 0.543636\n",
      "Epoch 600 MSE = 0.539629\n",
      "Epoch 700 MSE = 0.536509\n",
      "Epoch 800 MSE = 0.534068\n",
      "Epoch 900 MSE = 0.532147\n"
     ]
    }
   ],
   "source": [
    "# 手動で計算する例:AutoDiffを使わない版\n",
    "reset_graph()\n",
    "\n",
    "n_epochs = 1000 #反復数\n",
    "learning_rate = 0.01\n",
    "\n",
    "# tf.random_uniform  一様乱数生成,seedを変更すると生成パターンを変更できる\n",
    "# theta = 乱数\n",
    "# y_pred = Xと乱数の乗算\n",
    "#\n",
    "X = tf.constant(scaled_housing_data_plus_bias, dtype=tf.float32, name=\"X\")\n",
    "y = tf.constant(housing.target.reshape(-1, 1), dtype=tf.float32, name=\"y\")\n",
    "theta = tf.Variable(tf.random_uniform([n + 1, 1], -1.0, 1.0, seed=42), name=\"theta\")\n",
    "y_pred = tf.matmul(X, theta, name=\"predictions\") \n",
    "\n",
    "\n",
    "\n",
    "error = y_pred - y #予測誤差\n",
    "mse = tf.reduce_mean(tf.square(error), name=\"mse\") #MSE=平均2乗誤差\n",
    "gradients = 2/m * tf.matmul(tf.transpose(X), error) #勾配計算\n",
    "training_op = tf.assign(theta, theta - learning_rate * gradients)\n",
    "\n",
    "init = tf.global_variables_initializer()\n",
    "\n",
    "with tf.Session() as sess:\n",
    "    sess.run(init)\n",
    "\n",
    "    for epoch in range(n_epochs):\n",
    "        if epoch % 100 == 0:\n",
    "            print(\"Epoch\", epoch, \"MSE =\", mse.eval())\n",
    "        sess.run(training_op)\n",
    "    \n",
    "    best_theta = theta.eval()"
   ]
  },
  {
   "cell_type": "code",
   "execution_count": 27,
   "metadata": {},
   "outputs": [
    {
     "data": {
      "text/plain": [
       "array([[ 2.06855249],\n",
       "       [ 0.88740271],\n",
       "       [ 0.14401658],\n",
       "       [-0.34770882],\n",
       "       [ 0.36178368],\n",
       "       [ 0.00393812],\n",
       "       [-0.04269557],\n",
       "       [-0.66145277],\n",
       "       [-0.63752776]], dtype=float32)"
      ]
     },
     "execution_count": 27,
     "metadata": {},
     "output_type": "execute_result"
    }
   ],
   "source": [
    "best_theta"
   ]
  },
  {
   "cell_type": "markdown",
   "metadata": {},
   "source": [
    "### [9-6-2 ] Using autodiff p.250"
   ]
  },
  {
   "cell_type": "markdown",
   "metadata": {},
   "source": [
    "AutoDiffを使って勾配計算を自動化します\n",
    "\n",
    "***\n",
    "\n",
    "上記の手動計算コードはコスト関数（MSE）から導かれる。\n",
    "線形回帰の場合は簡単ですが、Deep Neural Networkで使おうとしたら、\n",
    "エラーを起こしやすいでしょう。\n",
    "↓\n",
    "そこで自動化「symbolic differentiation」\n",
    "↓\n",
    "自動的に偏微分の方程式を計算する。\n",
    "が、結果のコードは必ずしも効率的ではない。\n",
    "\n",
    "関数f(x) = exp (exp (exp (x)))の事例\n",
    "　- f '(x) = exp (x)×exp (exp(x))×exp( exp( exp( x)))\n",
    "  - このf(x)とf '(x)を直接コーディングは非効率　[※ exp(x)を9回call]\n",
    "　- 効率的な解決策は、\n",
    " 　　　- 最初にexp(x)\n",
    "       - 次にexp(exp(x))\n",
    "       - 次にexp(exp(exp(x)))\n",
    "       - 3項分の計算を全て返す\n",
    "  - 3番目が直接の解になっている[※ exp(x)を3回callのみ]\n",
    "\n",
    "***\n",
    "  \n",
    "関数が任意のコードで定義されていると事態は悪化します。\n",
    "次の関数の偏微分を計算するための方程式（またはコード）を見つける事は出来ますか?\n",
    "\n",
    "```\n",
    "def my_func(a, b):\n",
    "    z = 0\n",
    "    for i in range(100):\n",
    "        z = a * np.cos(z + i) + z * np.sin(b - i)\n",
    "    return z\n",
    "```\n",
    "TFのAutoDiffの場合は、自動で偏微分を計算できる。\n",
    "```\n",
    "    gradients = tf.gradients(mse, [theta])[0]\n",
    "```\n",
    "前回のgradient descentのコードを上記に置き換えるだけで良い。\n",
    "tf.gradients関数には、Op（この場合はMSE）と変数リスト(theta)を入力します。\n",
    "Opsのリストを変数ごとに1つ作成し、Opの勾配を変数毎に計算します。\n",
    "つまり、gradientsノードはthetaに関してMSEの勾配ベクトルを計算します。\n",
    "\n",
    "勾配の自動計算法は4つの方法がある(表9-2)\n",
    "TensorFlowはリバースモードのAutoDiffを使用しています。\n",
    "多くの入力があり、出力が少ない場合、つまりNeural Networkのケースで\n",
    "精度が上がる。TFは、出力のすべての偏微分を計算します。\n",
    "$$n_{outputs} + 1$$グラフの横断で、入力全てに関して出力値の偏微分を計算します。\n",
    "\n",
    "\n",
    "Table 9_2\n",
    "\n",
    "| Technique | Nb of graph traversals | Accuracy | Supports arbitrary code | Comment |\n",
    "|:-------------|:------------|:-------------|:---------|:---------|\n",
    "| Numerical differentiation | ninputs + 1 | Low | Yes | Trivial to implement |\n",
    "| Symbolic differentiation| N/A | High | No | Builds a very different graph |\n",
    "| Forward-mode autodiff | ninputs | High | Yes | Uses dual numbers |\n",
    "| Reverse-mode autodiff | noutputs + 1 | High | Yes |  Implemented by TensorFlow |\n",
    "\n",
    "\n"
   ]
  },
  {
   "cell_type": "code",
   "execution_count": 28,
   "metadata": {
    "collapsed": true
   },
   "outputs": [],
   "source": [
    "# tensorflowのautodiffの場合\n",
    "reset_graph()\n",
    "\n",
    "n_epochs = 1000\n",
    "learning_rate = 0.01\n",
    "\n",
    "X = tf.constant(scaled_housing_data_plus_bias, dtype=tf.float32, name=\"X\")\n",
    "y = tf.constant(housing.target.reshape(-1, 1), dtype=tf.float32, name=\"y\")\n",
    "theta = tf.Variable(tf.random_uniform([n + 1, 1], -1.0, 1.0, seed=42), name=\"theta\")\n",
    "y_pred = tf.matmul(X, theta, name=\"predictions\")\n",
    "error = y_pred - y\n",
    "mse = tf.reduce_mean(tf.square(error), name=\"mse\")"
   ]
  },
  {
   "cell_type": "code",
   "execution_count": 29,
   "metadata": {
    "collapsed": true
   },
   "outputs": [],
   "source": [
    "gradients = tf.gradients(mse, [theta])[0]"
   ]
  },
  {
   "cell_type": "code",
   "execution_count": 30,
   "metadata": {},
   "outputs": [
    {
     "name": "stdout",
     "output_type": "stream",
     "text": [
      "Epoch 0 MSE = 9.16154\n",
      "Epoch 100 MSE = 0.714501\n",
      "Epoch 200 MSE = 0.566705\n",
      "Epoch 300 MSE = 0.555572\n",
      "Epoch 400 MSE = 0.548812\n",
      "Epoch 500 MSE = 0.543636\n",
      "Epoch 600 MSE = 0.539629\n",
      "Epoch 700 MSE = 0.536509\n",
      "Epoch 800 MSE = 0.534068\n",
      "Epoch 900 MSE = 0.532147\n",
      "Best theta:\n",
      "[[ 2.06855249]\n",
      " [ 0.88740271]\n",
      " [ 0.14401658]\n",
      " [-0.34770882]\n",
      " [ 0.36178368]\n",
      " [ 0.00393811]\n",
      " [-0.04269556]\n",
      " [-0.66145277]\n",
      " [-0.6375277 ]]\n"
     ]
    }
   ],
   "source": [
    "training_op = tf.assign(theta, theta - learning_rate * gradients)\n",
    "\n",
    "init = tf.global_variables_initializer()\n",
    "\n",
    "with tf.Session() as sess:\n",
    "    sess.run(init)\n",
    "\n",
    "    for epoch in range(n_epochs):\n",
    "        if epoch % 100 == 0:\n",
    "            print(\"Epoch\", epoch, \"MSE =\", mse.eval())\n",
    "        sess.run(training_op)\n",
    "    \n",
    "    best_theta = theta.eval()\n",
    "\n",
    "print(\"Best theta:\")\n",
    "print(best_theta)"
   ]
  },
  {
   "cell_type": "markdown",
   "metadata": {},
   "source": [
    "以下、本には掲載されていない事例[A-1]\n",
    "How could you find the partial derivatives of the following function with regards to `a` and `b`?"
   ]
  },
  {
   "cell_type": "code",
   "execution_count": 31,
   "metadata": {
    "collapsed": true
   },
   "outputs": [],
   "source": [
    "#掲載なし事例(ref.p.250)[A-2]\n",
    "def my_func(a, b):\n",
    "    z = 0\n",
    "    for i in range(100):\n",
    "        z = a * np.cos(z + i) + z * np.sin(b - i)\n",
    "    return z"
   ]
  },
  {
   "cell_type": "code",
   "execution_count": 32,
   "metadata": {},
   "outputs": [
    {
     "data": {
      "text/plain": [
       "-0.21253923284754914"
      ]
     },
     "execution_count": 32,
     "metadata": {},
     "output_type": "execute_result"
    }
   ],
   "source": [
    "#掲載なし事例[A-3]\n",
    "my_func(0.2, 0.3)"
   ]
  },
  {
   "cell_type": "code",
   "execution_count": 33,
   "metadata": {
    "collapsed": true
   },
   "outputs": [],
   "source": [
    "#掲載なし事例[A-4]\n",
    "reset_graph()\n",
    "\n",
    "a = tf.Variable(0.2, name=\"a\")\n",
    "b = tf.Variable(0.3, name=\"b\")\n",
    "z = tf.constant(0.0, name=\"z0\")\n",
    "for i in range(100):\n",
    "    z = a * tf.cos(z + i) + z * tf.sin(b - i)\n",
    "\n",
    "grads = tf.gradients(z, [a, b])\n",
    "init = tf.global_variables_initializer()"
   ]
  },
  {
   "cell_type": "code",
   "execution_count": 34,
   "metadata": {},
   "outputs": [
    {
     "name": "stdout",
     "output_type": "stream",
     "text": [
      "-0.212537\n",
      "[-1.1388494, 0.19671395]\n"
     ]
    }
   ],
   "source": [
    "#掲載なし事例 [A-5]\n",
    "# Let's compute the function at $a=0.2$ and $b=0.3$, and the partial \n",
    "# derivatives at that point with regards to $a$ and with regards to $b$:\n",
    "with tf.Session() as sess:\n",
    "    init.run()\n",
    "    print(z.eval())\n",
    "    print(sess.run(grads))"
   ]
  },
  {
   "cell_type": "markdown",
   "metadata": {},
   "source": [
    "### [9-6-3] Using a optimizer : `GradientDescentOptimizer`　p.251"
   ]
  },
  {
   "cell_type": "code",
   "execution_count": 35,
   "metadata": {
    "collapsed": true
   },
   "outputs": [],
   "source": [
    "# TensorFlow computes the gradients. \n",
    "# TensorFlowはa Gradient Descent optimizer以外にもoptimizersがある。\n",
    "# 使いたい場合は、(gradients = ...,training_op = ...) 行を置き換えるだけ。\n",
    "\n",
    "reset_graph()\n",
    "\n",
    "n_epochs = 1000\n",
    "learning_rate = 0.01\n",
    "\n",
    "X = tf.constant(scaled_housing_data_plus_bias, dtype=tf.float32, name=\"X\")\n",
    "y = tf.constant(housing.target.reshape(-1, 1), dtype=tf.float32, name=\"y\")\n",
    "theta = tf.Variable(tf.random_uniform([n + 1, 1], -1.0, 1.0, seed=42), name=\"theta\")\n",
    "y_pred = tf.matmul(X, theta, name=\"predictions\")\n",
    "error = y_pred - y\n",
    "mse = tf.reduce_mean(tf.square(error), name=\"mse\")"
   ]
  },
  {
   "cell_type": "code",
   "execution_count": 36,
   "metadata": {
    "collapsed": true
   },
   "outputs": [],
   "source": [
    "optimizer = tf.train.GradientDescentOptimizer(learning_rate=learning_rate)\n",
    "training_op = optimizer.minimize(mse)"
   ]
  },
  {
   "cell_type": "code",
   "execution_count": 37,
   "metadata": {},
   "outputs": [
    {
     "name": "stdout",
     "output_type": "stream",
     "text": [
      "Epoch 0 MSE = 9.16154\n",
      "Epoch 100 MSE = 0.714501\n",
      "Epoch 200 MSE = 0.566705\n",
      "Epoch 300 MSE = 0.555572\n",
      "Epoch 400 MSE = 0.548812\n",
      "Epoch 500 MSE = 0.543636\n",
      "Epoch 600 MSE = 0.539629\n",
      "Epoch 700 MSE = 0.536509\n",
      "Epoch 800 MSE = 0.534068\n",
      "Epoch 900 MSE = 0.532147\n",
      "Best theta:\n",
      "[[ 2.06855249]\n",
      " [ 0.88740271]\n",
      " [ 0.14401658]\n",
      " [-0.34770882]\n",
      " [ 0.36178368]\n",
      " [ 0.00393811]\n",
      " [-0.04269556]\n",
      " [-0.66145277]\n",
      " [-0.6375277 ]]\n"
     ]
    }
   ],
   "source": [
    "# 異なるOptimizerを使いたたい時は、1行変更するだけで良い\n",
    "# momentum optimizerは、勾配降下法より速く収束する。\n",
    "# 11章でoptimizerを定義する。\n",
    "\n",
    "init = tf.global_variables_initializer()\n",
    "\n",
    "with tf.Session() as sess:\n",
    "    sess.run(init)\n",
    "\n",
    "    for epoch in range(n_epochs):\n",
    "        if epoch % 100 == 0:\n",
    "            print(\"Epoch\", epoch, \"MSE =\", mse.eval())\n",
    "        sess.run(training_op)\n",
    "    \n",
    "    best_theta = theta.eval()\n",
    "\n",
    "print(\"Best theta:\")\n",
    "print(best_theta)"
   ]
  },
  {
   "cell_type": "markdown",
   "metadata": {},
   "source": [
    "### Using a momentum optimizer\n",
    "momentum optimizerの使い方(本に掲載無し)"
   ]
  },
  {
   "cell_type": "code",
   "execution_count": 38,
   "metadata": {
    "collapsed": true
   },
   "outputs": [],
   "source": [
    "# momentum optimizer事例：本掲載なし[B-1]\n",
    "reset_graph()\n",
    "\n",
    "n_epochs = 1000\n",
    "learning_rate = 0.01\n",
    "\n",
    "X = tf.constant(scaled_housing_data_plus_bias, dtype=tf.float32, name=\"X\")\n",
    "y = tf.constant(housing.target.reshape(-1, 1), dtype=tf.float32, name=\"y\")\n",
    "theta = tf.Variable(tf.random_uniform([n + 1, 1], -1.0, 1.0, seed=42), name=\"theta\")\n",
    "y_pred = tf.matmul(X, theta, name=\"predictions\")\n",
    "error = y_pred - y\n",
    "mse = tf.reduce_mean(tf.square(error), name=\"mse\")"
   ]
  },
  {
   "cell_type": "code",
   "execution_count": 39,
   "metadata": {
    "collapsed": true
   },
   "outputs": [],
   "source": [
    "# momentum optimizer事例：本掲載なし[B-2]\n",
    "optimizer = tf.train.MomentumOptimizer(learning_rate=learning_rate,\n",
    "                                       momentum=0.9)"
   ]
  },
  {
   "cell_type": "code",
   "execution_count": 40,
   "metadata": {
    "collapsed": true
   },
   "outputs": [],
   "source": [
    "# momentum optimizer事例：本掲載なし[B-3]\n",
    "training_op = optimizer.minimize(mse)\n",
    "\n",
    "init = tf.global_variables_initializer()"
   ]
  },
  {
   "cell_type": "code",
   "execution_count": 41,
   "metadata": {},
   "outputs": [
    {
     "name": "stdout",
     "output_type": "stream",
     "text": [
      "Best theta:\n",
      "[[ 2.06855798]\n",
      " [ 0.82962859]\n",
      " [ 0.11875337]\n",
      " [-0.26554456]\n",
      " [ 0.30571091]\n",
      " [-0.00450251]\n",
      " [-0.03932662]\n",
      " [-0.89986444]\n",
      " [-0.87052065]]\n"
     ]
    }
   ],
   "source": [
    "# momentum optimizer事例：本掲載なし[B-4]\n",
    "with tf.Session() as sess:\n",
    "    sess.run(init)\n",
    "\n",
    "    for epoch in range(n_epochs):\n",
    "        sess.run(training_op)\n",
    "    \n",
    "    best_theta = theta.eval()\n",
    "\n",
    "print(\"Best theta:\")\n",
    "print(best_theta)"
   ]
  },
  {
   "cell_type": "markdown",
   "metadata": {},
   "source": [
    "### [9-7] Feeding data to the training algorithm p.252\n",
    "\n",
    "####\n",
    "Mini-batch gradient descentを実装するために、上のコードを修正する\n",
    " - mini-batchで各iterationでXとyを置き換える。\n",
    " - placeholderノードだと簡単。\n",
    " - これらのノードは計算実行せず、Tensorflowに訓練データを渡す\n",
    " \n",
    "Placeholderノード生成\n",
    " - placeholder() function とtensorデータ型指定\n",
    " - データ型Noneも指定可能\n",
    " - a placeholder node A, and also a node B = A + 5. \n",
    "    - we pass a feed_dict to the eval() method that specifies the value of A.\n",
    "    - Aはrank2(= 2dim), 3 columns,it can have any number of rows."
   ]
  },
  {
   "cell_type": "markdown",
   "metadata": {},
   "source": [
    "#### [9-7-1] Placeholder nodes"
   ]
  },
  {
   "cell_type": "code",
   "execution_count": 42,
   "metadata": {},
   "outputs": [
    {
     "name": "stdout",
     "output_type": "stream",
     "text": [
      "[[ 6.  7.  8.]]\n"
     ]
    }
   ],
   "source": [
    "reset_graph()\n",
    "\n",
    "A = tf.placeholder(tf.float32, shape=(None, 3))\n",
    "B = A + 5\n",
    "with tf.Session() as sess:\n",
    "    B_val_1 = B.eval(feed_dict={A: [[1, 2, 3]]})\n",
    "    B_val_2 = B.eval(feed_dict={A: [[4, 5, 6], [7, 8, 9]]})\n",
    "\n",
    "print(B_val_1)"
   ]
  },
  {
   "cell_type": "code",
   "execution_count": 43,
   "metadata": {},
   "outputs": [
    {
     "name": "stdout",
     "output_type": "stream",
     "text": [
      "[[  9.  10.  11.]\n",
      " [ 12.  13.  14.]]\n"
     ]
    }
   ],
   "source": [
    "print(B_val_2)"
   ]
  },
  {
   "cell_type": "markdown",
   "metadata": {},
   "source": [
    "#### Chips\n",
    "You can actually feed the output of any operations, not just placeholders.\n",
    "In this case TensorFlow does not try to evaluate these\n",
    "operations, it uses the values you feed it."
   ]
  },
  {
   "cell_type": "markdown",
   "metadata": {},
   "source": [
    "### [9-7-2] Mini-batch Gradient Descent　p.252\n",
    "Mini-batch Gradient Descentの実装には、既存コードを微調整するだけで済む。 \n",
    " - 構築段階でXとYをプレースホルダノードへ変更"
   ]
  },
  {
   "cell_type": "code",
   "execution_count": 44,
   "metadata": {
    "collapsed": true
   },
   "outputs": [],
   "source": [
    "n_epochs = 1000\n",
    "learning_rate = 0.01"
   ]
  },
  {
   "cell_type": "code",
   "execution_count": 45,
   "metadata": {
    "collapsed": true
   },
   "outputs": [],
   "source": [
    "reset_graph()\n",
    "\n",
    "X = tf.placeholder(tf.float32, shape=(None, n + 1), name=\"X\")\n",
    "y = tf.placeholder(tf.float32, shape=(None, 1), name=\"y\")"
   ]
  },
  {
   "cell_type": "code",
   "execution_count": 46,
   "metadata": {
    "collapsed": true
   },
   "outputs": [],
   "source": [
    "theta = tf.Variable(tf.random_uniform([n + 1, 1], -1.0, 1.0, seed=42), name=\"theta\")\n",
    "y_pred = tf.matmul(X, theta, name=\"predictions\")\n",
    "error = y_pred - y\n",
    "mse = tf.reduce_mean(tf.square(error), name=\"mse\")\n",
    "optimizer = tf.train.GradientDescentOptimizer(learning_rate=learning_rate)\n",
    "training_op = optimizer.minimize(mse)\n",
    "\n",
    "init = tf.global_variables_initializer()"
   ]
  },
  {
   "cell_type": "code",
   "execution_count": 47,
   "metadata": {
    "collapsed": true
   },
   "outputs": [],
   "source": [
    "n_epochs = 10"
   ]
  },
  {
   "cell_type": "code",
   "execution_count": 48,
   "metadata": {
    "collapsed": true
   },
   "outputs": [],
   "source": [
    "#Then define the batch size and compute the total number of batches:\n",
    "batch_size = 100\n",
    "n_batches = int(np.ceil(m / batch_size))"
   ]
  },
  {
   "cell_type": "markdown",
   "metadata": {},
   "source": [
    "最後に、実行段階で、ミニバッチを1つずつ取得。\n",
    "互いに依存するノードを評価する時にfeed_dictパラメータからXとyの値を指定"
   ]
  },
  {
   "cell_type": "code",
   "execution_count": 49,
   "metadata": {
    "collapsed": true
   },
   "outputs": [],
   "source": [
    "def fetch_batch(epoch, batch_index, batch_size):\n",
    "    np.random.seed(epoch * n_batches + batch_index)  # not shown in the book\n",
    "    indices = np.random.randint(m, size=batch_size)  # not shown\n",
    "    X_batch = scaled_housing_data_plus_bias[indices] # not shown\n",
    "    y_batch = housing.target.reshape(-1, 1)[indices] # not shown\n",
    "    return X_batch, y_batch\n",
    "\n",
    "with tf.Session() as sess:\n",
    "    sess.run(init)\n",
    "\n",
    "    for epoch in range(n_epochs):\n",
    "        for batch_index in range(n_batches):\n",
    "            X_batch, y_batch = fetch_batch(epoch, batch_index, batch_size)\n",
    "            sess.run(training_op, feed_dict={X: X_batch, y: y_batch})\n",
    "\n",
    "    best_theta = theta.eval()"
   ]
  },
  {
   "cell_type": "code",
   "execution_count": 50,
   "metadata": {},
   "outputs": [
    {
     "data": {
      "text/plain": [
       "array([[ 2.07033372],\n",
       "       [ 0.86371452],\n",
       "       [ 0.12255151],\n",
       "       [-0.31211874],\n",
       "       [ 0.38510373],\n",
       "       [ 0.00434168],\n",
       "       [-0.01232954],\n",
       "       [-0.83376896],\n",
       "       [-0.80304712]], dtype=float32)"
      ]
     },
     "execution_count": 50,
     "metadata": {},
     "output_type": "execute_result"
    }
   ],
   "source": [
    "best_theta"
   ]
  },
  {
   "cell_type": "markdown",
   "metadata": {},
   "source": [
    "シータを評価するときにXとYの値を渡す必要はない。(どちらにも依存しない為)"
   ]
  },
  {
   "cell_type": "markdown",
   "metadata": {},
   "source": [
    "### [9-8] Saving and restoring a model p.253\n",
    "\n",
    "- モデル訓練後、パラメータをディスクに保存しておく\n",
    "- チェックポイントを定期的に保存可能（訓練中コンピュータクラッシュ後に続行する為）\n",
    "- TensorFlowは、チェックポイント後からモデル復元する。\n",
    "- Saverノードを構築段階の最後に作成、実行フェーズでsave()method呼び出し\n",
    "- セッションとチェックポイントファイルのパスを渡す\n"
   ]
  },
  {
   "cell_type": "code",
   "execution_count": 51,
   "metadata": {},
   "outputs": [
    {
     "name": "stdout",
     "output_type": "stream",
     "text": [
      "Epoch 0 MSE = 9.16154\n",
      "Epoch 100 MSE = 0.714501\n",
      "Epoch 200 MSE = 0.566705\n",
      "Epoch 300 MSE = 0.555572\n",
      "Epoch 400 MSE = 0.548812\n",
      "Epoch 500 MSE = 0.543636\n",
      "Epoch 600 MSE = 0.539629\n",
      "Epoch 700 MSE = 0.536509\n",
      "Epoch 800 MSE = 0.534068\n",
      "Epoch 900 MSE = 0.532147\n"
     ]
    }
   ],
   "source": [
    "reset_graph()\n",
    "\n",
    "n_epochs = 1000                                                                       # not shown in the book\n",
    "learning_rate = 0.01                                                                  # not shown\n",
    "\n",
    "X = tf.constant(scaled_housing_data_plus_bias, dtype=tf.float32, name=\"X\")            # not shown\n",
    "y = tf.constant(housing.target.reshape(-1, 1), dtype=tf.float32, name=\"y\")            # not shown\n",
    "theta = tf.Variable(tf.random_uniform([n + 1, 1], -1.0, 1.0, seed=42), name=\"theta\")\n",
    "y_pred = tf.matmul(X, theta, name=\"predictions\")                                      # not shown\n",
    "error = y_pred - y                                                                    # not shown\n",
    "mse = tf.reduce_mean(tf.square(error), name=\"mse\")                                    # not shown\n",
    "optimizer = tf.train.GradientDescentOptimizer(learning_rate=learning_rate)            # not shown\n",
    "training_op = optimizer.minimize(mse)                                                 # not shown\n",
    "\n",
    "init = tf.global_variables_initializer()\n",
    "saver = tf.train.Saver()\n",
    "\n",
    "with tf.Session() as sess:\n",
    "    sess.run(init)\n",
    "\n",
    "    for epoch in range(n_epochs):\n",
    "        if epoch % 100 == 0:\n",
    "            print(\"Epoch\", epoch, \"MSE =\", mse.eval())                                # not shown\n",
    "            save_path = saver.save(sess, \"./tmp/my_model.ckpt\")\n",
    "        sess.run(training_op)\n",
    "    \n",
    "    best_theta = theta.eval()\n",
    "    save_path = saver.save(sess, \"./tmp/my_model_final.ckpt\")"
   ]
  },
  {
   "cell_type": "code",
   "execution_count": 52,
   "metadata": {},
   "outputs": [
    {
     "data": {
      "text/plain": [
       "array([[ 2.06855249],\n",
       "       [ 0.88740271],\n",
       "       [ 0.14401658],\n",
       "       [-0.34770882],\n",
       "       [ 0.36178368],\n",
       "       [ 0.00393811],\n",
       "       [-0.04269556],\n",
       "       [-0.66145277],\n",
       "       [-0.6375277 ]], dtype=float32)"
      ]
     },
     "execution_count": 52,
     "metadata": {},
     "output_type": "execute_result"
    }
   ],
   "source": [
    "best_theta"
   ]
  },
  {
   "cell_type": "markdown",
   "metadata": {},
   "source": [
    "モデル復元も簡単\n",
    "- 構築段階最後にSaverを作成\n",
    "- 実行フェーズの開始時に、init nodeで変数初期化の代わりにrestore（）メソッドを呼出\n"
   ]
  },
  {
   "cell_type": "code",
   "execution_count": 53,
   "metadata": {
    "scrolled": false
   },
   "outputs": [
    {
     "name": "stdout",
     "output_type": "stream",
     "text": [
      "INFO:tensorflow:Restoring parameters from ./tmp/my_model_final.ckpt\n"
     ]
    }
   ],
   "source": [
    "with tf.Session() as sess:\n",
    "    saver.restore(sess, \"./tmp/my_model_final.ckpt\")\n",
    "    best_theta_restored = theta.eval() # not shown in the book"
   ]
  },
  {
   "cell_type": "code",
   "execution_count": 54,
   "metadata": {},
   "outputs": [
    {
     "data": {
      "text/plain": [
       "True"
      ]
     },
     "execution_count": 54,
     "metadata": {},
     "output_type": "execute_result"
    }
   ],
   "source": [
    "np.allclose(best_theta, best_theta_restored)"
   ]
  },
  {
   "cell_type": "markdown",
   "metadata": {},
   "source": [
    "デフォルトでは、Saverは全変数をリストアする。\n",
    "\n",
    "しかし使い勝手を考えて、thetaを”weights”など異なる名前でrestoreしておく。"
   ]
  },
  {
   "cell_type": "code",
   "execution_count": 55,
   "metadata": {
    "collapsed": true
   },
   "outputs": [],
   "source": [
    "saver = tf.train.Saver({\"weights\": theta})"
   ]
  },
  {
   "cell_type": "markdown",
   "metadata": {},
   "source": [
    "##以下、本に無い解説\n",
    "\n",
    "Saverはグラフ構造も保存する。\n",
    "- グラフ構造自体が、2番目ファイルとして拡張子.metaで保存される。 \n",
    "- tf.train.import_meta_graph（）関数を使用して、グラフ構造を復元可能。\n",
    "- この関数は、保存ファイルのグラフをデフォルトのグラフにロードする。\n",
    "\n",
    "By default the saver also saves the graph structure itself in a second file with the extension `.meta`. You can use the function `tf.train.import_meta_graph()` to restore the graph structure. This function loads the graph into the default graph and returns a `Saver` that can then be used to restore the graph state (i.e., the variable values):"
   ]
  },
  {
   "cell_type": "code",
   "execution_count": 56,
   "metadata": {},
   "outputs": [
    {
     "name": "stdout",
     "output_type": "stream",
     "text": [
      "INFO:tensorflow:Restoring parameters from ./tmp/my_model_final.ckpt\n"
     ]
    }
   ],
   "source": [
    "reset_graph()\n",
    "# notice that we start with an empty graph.\n",
    "\n",
    "saver = tf.train.import_meta_graph(\"./tmp/my_model_final.ckpt.meta\")  # this loads the graph structure\n",
    "theta = tf.get_default_graph().get_tensor_by_name(\"theta:0\") # not shown in the book\n",
    "\n",
    "with tf.Session() as sess:\n",
    "    saver.restore(sess, \"./tmp/my_model_final.ckpt\")  # this restores the graph's state\n",
    "    best_theta_restored = theta.eval() # not shown in the book"
   ]
  },
  {
   "cell_type": "code",
   "execution_count": 57,
   "metadata": {},
   "outputs": [
    {
     "data": {
      "text/plain": [
       "True"
      ]
     },
     "execution_count": 57,
     "metadata": {},
     "output_type": "execute_result"
    }
   ],
   "source": [
    "np.allclose(best_theta, best_theta_restored)"
   ]
  },
  {
   "cell_type": "markdown",
   "metadata": {},
   "source": [
    "つまり、グラフを構築のPythonコードが無くても、事前に訓練されたモデルをインポートできることを意味する。\n",
    "\n",
    "- モデルを調整して保存しておくと便利\n",
    "- モデルを構築したコードのバージョンを検索することなく、保存モデルを読み込める。\n",
    "\n",
    "This means that you can import a pretrained model without having to have the corresponding Python code to build the graph. This is very handy when you keep tweaking and saving your model: you can load a previously saved model without having to search for the version of the code that built it."
   ]
  },
  {
   "cell_type": "code",
   "execution_count": null,
   "metadata": {
    "collapsed": true
   },
   "outputs": [],
   "source": []
  }
 ],
 "metadata": {
  "kernelspec": {
   "display_name": "Python 3",
   "language": "python",
   "name": "python3"
  },
  "language_info": {
   "codemirror_mode": {
    "name": "ipython",
    "version": 3
   },
   "file_extension": ".py",
   "mimetype": "text/x-python",
   "name": "python",
   "nbconvert_exporter": "python",
   "pygments_lexer": "ipython3",
   "version": "3.6.1"
  },
  "nav_menu": {
   "height": "603px",
   "width": "616px"
  },
  "toc": {
   "navigate_menu": true,
   "number_sections": true,
   "sideBar": true,
   "threshold": 6,
   "toc_cell": false,
   "toc_section_display": "block",
   "toc_window_display": true
  }
 },
 "nbformat": 4,
 "nbformat_minor": 1
}
